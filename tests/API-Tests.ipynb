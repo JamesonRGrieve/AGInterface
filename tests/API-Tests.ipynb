{
 "cells": [
  {
   "cell_type": "markdown",
   "metadata": {},
   "source": [
    "# AGiXT Enterprise Back End Tests\n",
    "\n",
    "Initialize XT Systems SDK and run tests for the back end."
   ]
  },
  {
   "cell_type": "markdown",
   "metadata": {},
   "source": [
    "## Register a user\n",
    "\n",
    "Register a user on the auth server."
   ]
  },
  {
   "cell_type": "code",
   "execution_count": null,
   "metadata": {},
   "outputs": [],
   "source": [
    "import random\n",
    "import string\n",
    "import time\n",
    "from xts import XTSystemsSDK\n",
    "\n",
    "\n",
    "time.sleep(60)\n",
    "\n",
    "failures = 0\n",
    "random_string = \"\".join(\n",
    "    random.choices(string.ascii_uppercase + string.digits, k=10)\n",
    ").lower()\n",
    "test_email = f\"{random_string}@xt.systems\"\n",
    "xts = XTSystemsSDK()\n",
    "\n",
    "while failures < 100:\n",
    "    try:\n",
    "        otp_uri = xts.register_user(\n",
    "            email=test_email, first_name=\"Test\", last_name=\"User\"\n",
    "        )\n",
    "        break\n",
    "    except Exception as e:\n",
    "        print(e)\n",
    "        failures += 1\n",
    "        time.sleep(5)\n",
    "\n",
    "# Show QR code for MFA setup\n",
    "import qrcode\n",
    "from IPython.display import Image\n",
    "\n",
    "qr = qrcode.QRCode()\n",
    "qr.add_data(otp_uri)\n",
    "qr.make(fit=True)\n",
    "img = qr.make_image(fill=\"black\", back_color=\"white\")\n",
    "img.save(\"qr.png\")\n",
    "Image(filename=\"qr.png\")"
   ]
  },
  {
   "cell_type": "markdown",
   "metadata": {},
   "source": [
    "## Confirm user exists\n"
   ]
  },
  {
   "cell_type": "code",
   "execution_count": 4,
   "metadata": {},
   "outputs": [
    {
     "name": "stdout",
     "output_type": "stream",
     "text": [
      "Status Code: 200\n",
      "Response JSON:\n",
      "True\n"
     ]
    }
   ],
   "source": [
    "user_exists = xts.user_exists(email=test_email)"
   ]
  },
  {
   "cell_type": "markdown",
   "metadata": {},
   "source": [
    "## Update User's Last Name"
   ]
  },
  {
   "cell_type": "code",
   "execution_count": 5,
   "metadata": {},
   "outputs": [
    {
     "name": "stdout",
     "output_type": "stream",
     "text": [
      "Status Code: 200\n",
      "Response JSON:\n",
      "{'detail': 'User updated successfully.'}\n"
     ]
    }
   ],
   "source": [
    "update_user = xts.update_user(first_name=\"Super\", last_name=\"Man\")"
   ]
  },
  {
   "cell_type": "markdown",
   "metadata": {},
   "source": [
    "## Get User Details"
   ]
  },
  {
   "cell_type": "code",
   "execution_count": 6,
   "metadata": {},
   "outputs": [
    {
     "name": "stdout",
     "output_type": "stream",
     "text": [
      "Status Code: 200\n",
      "Response JSON:\n",
      "{'email': '9rf4j054d2@devxt.com',\n",
      " 'first_name': 'Super',\n",
      " 'input_tokens': '0',\n",
      " 'ip_address': '127.0.0.1',\n",
      " 'last_name': 'Man',\n",
      " 'output_tokens': '0',\n",
      " 'timezone': ''}\n"
     ]
    }
   ],
   "source": [
    "user_details = xts.get_user()"
   ]
  },
  {
   "cell_type": "code",
   "execution_count": null,
   "metadata": {},
   "outputs": [],
   "source": [
    "import openai\n",
    "\n",
    "openai.base_url = f\"{xts.base_url}/v1/\"\n",
    "openai.api_key = xts.headers[\"Authorization\"]\n",
    "\n",
    "\n",
    "response = openai.chat.completions.create(\n",
    "    model=\"XT\",\n",
    "    messages=[\n",
    "        {\n",
    "            \"role\": \"user\",\n",
    "            \"content\": \"How would I run the project?\",\n",
    "        }\n",
    "    ],\n",
    "    user=\"Time to test\",\n",
    ")\n",
    "\n",
    "print(response.choices[0].message.content)"
   ]
  },
  {
   "cell_type": "code",
   "execution_count": null,
   "metadata": {},
   "outputs": [],
   "source": [
    "conversation = xts.get_conversation(conversation_name=\"Time to test\")\n",
    "print(conversation)"
   ]
  },
  {
   "cell_type": "code",
   "execution_count": null,
   "metadata": {},
   "outputs": [],
   "source": [
    "conversations = xts.get_conversations()\n",
    "print(conversations)"
   ]
  },
  {
   "cell_type": "markdown",
   "metadata": {},
   "source": [
    "## Invite a User to a Company"
   ]
  },
  {
   "cell_type": "code",
   "execution_count": 22,
   "metadata": {},
   "outputs": [
    {
     "name": "stdout",
     "output_type": "stream",
     "text": [
      "Status Code: 200\n",
      "Response JSON:\n",
      "{'company_id': '12d6ddcf-9100-4a6a-b4f2-ea31122996e8',\n",
      " 'created_at': '2024-08-06T16:34:38',\n",
      " 'email': 'invited_user@example.com',\n",
      " 'id': '95df5436-97b7-4275-b6ea-048480aac27b',\n",
      " 'inviter_id': '2a330d6d-18cb-43b3-aef2-1490beb14d07',\n",
      " 'is_accepted': False,\n",
      " 'role_id': 3}\n"
     ]
    }
   ],
   "source": [
    "invitation = xts.create_invitation(\n",
    "    email=\"invited_user@example.com\",\n",
    "    company_id=\"\",\n",
    "    role_id=3,  # Assuming 3 is the role_id for a regular user\n",
    ")"
   ]
  },
  {
   "cell_type": "markdown",
   "metadata": {},
   "source": [
    "## Accept Invitation"
   ]
  },
  {
   "cell_type": "code",
   "execution_count": 23,
   "metadata": {},
   "outputs": [
    {
     "name": "stdout",
     "output_type": "stream",
     "text": [
      "Status Code: 200\n",
      "Response JSON:\n",
      "True\n"
     ]
    }
   ],
   "source": [
    "accept_invitation = xts.accept_invitation(invitation_id=invitation[\"id\"])"
   ]
  },
  {
   "cell_type": "markdown",
   "metadata": {},
   "source": [
    "## Delete User"
   ]
  },
  {
   "cell_type": "code",
   "execution_count": 40,
   "metadata": {},
   "outputs": [
    {
     "name": "stdout",
     "output_type": "stream",
     "text": [
      "Status Code: 200\n",
      "Response JSON:\n",
      "{'detail': 'User deleted successfully.'}\n"
     ]
    }
   ],
   "source": [
    "delete_user_result = xts.delete_user()"
   ]
  }
 ],
 "metadata": {
  "kernelspec": {
   "display_name": "Python 3",
   "language": "python",
   "name": "python3"
  },
  "language_info": {
   "codemirror_mode": {
    "name": "ipython",
    "version": 3
   },
   "file_extension": ".py",
   "mimetype": "text/x-python",
   "name": "python",
   "nbconvert_exporter": "python",
   "pygments_lexer": "ipython3",
   "version": "3.10.15"
  }
 },
 "nbformat": 4,
 "nbformat_minor": 2
}
