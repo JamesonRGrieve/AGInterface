{
 "cells": [
  {
   "cell_type": "markdown",
   "metadata": {},
   "source": [
    "# AGiXT Enterprise Back End Tests\n",
    "\n",
    "Initialize XT Systems SDK and run tests for the back end.\n",
    "## Register a user\n",
    "\n",
    "Register a user on the auth server."
   ]
  },
  {
   "cell_type": "code",
   "execution_count": null,
   "metadata": {},
   "outputs": [],
   "source": [
    "import random\n",
    "import string\n",
    "import time\n",
    "import requests\n",
    "from xts import XTSystemsSDK\n",
    "\n",
    "def check_online(base_url: str, max_retries: int = 3, retry_delay: int = 10) -> bool:\n",
    "    \"\"\"\n",
    "    Check if the API is online and responding\n",
    "    Args:\n",
    "        base_url: The base URL of the API\n",
    "        max_retries: Maximum number of retries (default: 3)\n",
    "        retry_delay: Delay between retries in seconds (default: 10)\n",
    "    Returns:\n",
    "        bool: True if API is online, False otherwise\n",
    "    \"\"\"\n",
    "    retry_count = 0\n",
    "    while retry_count < max_retries:\n",
    "        try:\n",
    "            response = requests.get(f\"{base_url}/health\", timeout=5)\n",
    "            if response.status_code == 200:\n",
    "                print(f\"API is online at {base_url}\")\n",
    "                return True\n",
    "        except (requests.RequestException, ConnectionError) as e:\n",
    "            retry_count += 1\n",
    "            if retry_count == max_retries:\n",
    "                print(f\"API is offline after {max_retries} attempts: {str(e)}\")\n",
    "                return False\n",
    "            print(f\"API check failed (attempt {retry_count}/{max_retries}), retrying in {retry_delay} seconds...\")\n",
    "            time.sleep(retry_delay)\n",
    "    return False\n",
    "\n",
    "# Initialize SDK\n",
    "xts = XTSystemsSDK()\n",
    "\n",
    "# Check if API is online before proceeding\n",
    "if not check_online(xts.base_url):\n",
    "    raise Exception(\"API is not available - aborting tests\")\n",
    "\n",
    "print(\"API is online - proceeding with tests\")\n",
    "time.sleep(60)\n",
    "\n",
    "failures = 0\n",
    "random_string = \"\".join(\n",
    "    random.choices(string.ascii_uppercase + string.digits, k=10)\n",
    ").lower()\n",
    "test_email = f\"{random_string}@xt.systems\"\n",
    "\n",
    "while failures < 100:\n",
    "    try:\n",
    "        otp_uri = xts.register_user(\n",
    "            email=test_email, first_name=\"Test\", last_name=\"User\"\n",
    "        )\n",
    "        break\n",
    "    except Exception as e:\n",
    "        print(e)\n",
    "        failures += 1\n",
    "        time.sleep(5)"
   ]
  },
  {
   "cell_type": "code",
   "execution_count": null,
   "metadata": {},
   "outputs": [],
   "source": [
    "# Show QR code for MFA setup\n",
    "import qrcode\n",
    "from IPython.display import Image\n",
    "\n",
    "qr = qrcode.QRCode()\n",
    "qr.add_data(otp_uri)\n",
    "qr.make(fit=True)\n",
    "img = qr.make_image(fill=\"black\", back_color=\"white\")\n",
    "img.save(\"qr.png\")\n",
    "Image(filename=\"qr.png\")"
   ]
  },
  {
   "cell_type": "markdown",
   "metadata": {},
   "source": [
    "## Confirm user exists"
   ]
  },
  {
   "cell_type": "code",
   "execution_count": null,
   "metadata": {},
   "outputs": [],
   "source": [
    "user_exists = xts.user_exists(email=test_email)"
   ]
  },
  {
   "cell_type": "markdown",
   "metadata": {},
   "source": [
    "## Update User's Last Name"
   ]
  },
  {
   "cell_type": "code",
   "execution_count": null,
   "metadata": {},
   "outputs": [],
   "source": [
    "update_user = xts.update_user(first_name=\"Super\", last_name=\"Man\")"
   ]
  },
  {
   "cell_type": "markdown",
   "metadata": {},
   "source": [
    "## Get User Details"
   ]
  },
  {
   "cell_type": "code",
   "execution_count": null,
   "metadata": {},
   "outputs": [],
   "source": [
    "user_details = xts.get_user()\n",
    "\n",
    "import openai\n",
    "\n",
    "openai.base_url = f\"{xts.base_url}/v1/\"\n",
    "openai.api_key = xts.headers[\"Authorization\"]\n",
    "\n",
    "response = openai.chat.completions.create(\n",
    "    model=\"XT\",\n",
    "    messages=[\n",
    "        {\n",
    "            \"role\": \"user\",\n",
    "            \"content\": \"How would I run the project?\",\n",
    "        }\n",
    "    ],\n",
    "    user=\"Time to test\",\n",
    ")\n",
    "\n",
    "print(response.choices[0].message.content)"
   ]
  },
  {
   "cell_type": "code",
   "execution_count": null,
   "metadata": {},
   "outputs": [],
   "source": [
    "conversation = xts.get_conversation(conversation_name=\"Time to test\")\n",
    "print(conversation)\n",
    "\n",
    "conversations = xts.get_conversations()\n",
    "print(conversations)"
   ]
  },
  {
   "cell_type": "markdown",
   "metadata": {},
   "source": [
    "## Invite a User to a Company"
   ]
  },
  {
   "cell_type": "code",
   "execution_count": null,
   "metadata": {},
   "outputs": [],
   "source": [
    "invitation = xts.create_invitation(\n",
    "    email=\"invited_user@example.com\",\n",
    "    company_id=\"\",\n",
    "    role_id=3,  # Assuming 3 is the role_id for a regular user\n",
    ")"
   ]
  },
  {
   "cell_type": "markdown",
   "metadata": {},
   "source": [
    "## Accept Invitation"
   ]
  },
  {
   "cell_type": "code",
   "execution_count": null,
   "metadata": {},
   "outputs": [],
   "source": [
    "accept_invitation = xts.accept_invitation(invitation_id=invitation[\"id\"])"
   ]
  },
  {
   "cell_type": "markdown",
   "metadata": {},
   "source": [
    "## Delete User"
   ]
  },
  {
   "cell_type": "code",
   "execution_count": null,
   "metadata": {},
   "outputs": [],
   "source": [
    "delete_user_result = xts.delete_user()"
   ]
  }
 ],
 "metadata": {
  "kernelspec": {
   "display_name": "Python 3",
   "language": "python",
   "name": "python3"
  },
  "language_info": {
   "codemirror_mode": {
    "name": "ipython",
    "version": 3
   },
   "file_extension": ".py",
   "mimetype": "text/x-python",
   "name": "python",
   "nbconvert_exporter": "python",
   "pygments_lexer": "ipython3",
   "version": "3.10"
  }
 },
 "nbformat": 4,
 "nbformat_minor": 4
}
